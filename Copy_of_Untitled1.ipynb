{
  "nbformat": 4,
  "nbformat_minor": 0,
  "metadata": {
    "colab": {
      "provenance": [],
      "authorship_tag": "ABX9TyOzCrF6UpXH+i8IX914ZA6H",
      "include_colab_link": true
    },
    "kernelspec": {
      "name": "python3",
      "display_name": "Python 3"
    },
    "language_info": {
      "name": "python"
    }
  },
  "cells": [
    {
      "cell_type": "markdown",
      "metadata": {
        "id": "view-in-github",
        "colab_type": "text"
      },
      "source": [
        "<a href=\"https://colab.research.google.com/github/PrabhatIITR/py-jupyter/blob/main/Copy_of_Untitled1.ipynb\" target=\"_parent\"><img src=\"https://colab.research.google.com/assets/colab-badge.svg\" alt=\"Open In Colab\"/></a>"
      ]
    },
    {
      "cell_type": "code",
      "execution_count": null,
      "metadata": {
        "id": "wFr55uwk6G8o"
      },
      "outputs": [],
      "source": [
        "%matplotlib inline"
      ]
    },
    {
      "cell_type": "code",
      "source": [
        "# stdlib imports\n",
        "from datetime import datetime\n",
        "from time import time\n",
        "\n",
        "# Third party imports\n",
        "import matplotlib.pyplot as plt\n",
        "from obspy.geodetics.base import gps2dist_azimuth\n",
        "import pandas as pd\n",
        "\n",
        "# Local imports\n",
        "from libcomcat.dataframes import get_history_data_frame\n",
        "from libcomcat.search import (get_event_by_id, get_authoritative_info, search)"
      ],
      "metadata": {
        "id": "_9KPz1fB6Qwl"
      },
      "execution_count": null,
      "outputs": []
    },
    {
      "cell_type": "code",
      "source": [
        "! pip install obspy"
      ],
      "metadata": {
        "colab": {
          "base_uri": "https://localhost:8080/",
          "height": 572
        },
        "id": "WrUq_NuV6Tk8",
        "outputId": "546a8c77-0c85-4a73-fa5a-201125904600"
      },
      "execution_count": null,
      "outputs": [
        {
          "output_type": "stream",
          "name": "stdout",
          "text": [
            "Looking in indexes: https://pypi.org/simple, https://us-python.pkg.dev/colab-wheels/public/simple/\n",
            "Collecting obspy\n",
            "  Downloading obspy-1.4.0-cp39-cp39-manylinux_2_17_x86_64.manylinux2014_x86_64.whl (14.5 MB)\n",
            "\u001b[2K     \u001b[90m━━━━━━━━━━━━━━━━━━━━━━━━━━━━━━━━━━━━━━━━\u001b[0m \u001b[32m14.5/14.5 MB\u001b[0m \u001b[31m80.8 MB/s\u001b[0m eta \u001b[36m0:00:00\u001b[0m\n",
            "\u001b[?25hRequirement already satisfied: numpy>=1.20 in /usr/local/lib/python3.9/dist-packages (from obspy) (1.22.4)\n",
            "Requirement already satisfied: lxml in /usr/local/lib/python3.9/dist-packages (from obspy) (4.9.2)\n",
            "Requirement already satisfied: decorator in /usr/local/lib/python3.9/dist-packages (from obspy) (4.4.2)\n",
            "Requirement already satisfied: matplotlib>=3.3 in /usr/local/lib/python3.9/dist-packages (from obspy) (3.5.3)\n",
            "Requirement already satisfied: sqlalchemy in /usr/local/lib/python3.9/dist-packages (from obspy) (1.4.46)\n",
            "Requirement already satisfied: setuptools in /usr/local/lib/python3.9/dist-packages (from obspy) (57.4.0)\n",
            "Requirement already satisfied: requests in /usr/local/lib/python3.9/dist-packages (from obspy) (2.25.1)\n",
            "Requirement already satisfied: scipy>=1.7 in /usr/local/lib/python3.9/dist-packages (from obspy) (1.10.1)\n",
            "Requirement already satisfied: fonttools>=4.22.0 in /usr/local/lib/python3.9/dist-packages (from matplotlib>=3.3->obspy) (4.39.0)\n",
            "Requirement already satisfied: packaging>=20.0 in /usr/local/lib/python3.9/dist-packages (from matplotlib>=3.3->obspy) (23.0)\n",
            "Requirement already satisfied: pyparsing>=2.2.1 in /usr/local/lib/python3.9/dist-packages (from matplotlib>=3.3->obspy) (3.0.9)\n",
            "Requirement already satisfied: pillow>=6.2.0 in /usr/local/lib/python3.9/dist-packages (from matplotlib>=3.3->obspy) (8.4.0)\n",
            "Requirement already satisfied: cycler>=0.10 in /usr/local/lib/python3.9/dist-packages (from matplotlib>=3.3->obspy) (0.11.0)\n",
            "Requirement already satisfied: kiwisolver>=1.0.1 in /usr/local/lib/python3.9/dist-packages (from matplotlib>=3.3->obspy) (1.4.4)\n",
            "Requirement already satisfied: python-dateutil>=2.7 in /usr/local/lib/python3.9/dist-packages (from matplotlib>=3.3->obspy) (2.8.2)\n",
            "Requirement already satisfied: chardet<5,>=3.0.2 in /usr/local/lib/python3.9/dist-packages (from requests->obspy) (4.0.0)\n",
            "Requirement already satisfied: urllib3<1.27,>=1.21.1 in /usr/local/lib/python3.9/dist-packages (from requests->obspy) (1.26.14)\n",
            "Requirement already satisfied: idna<3,>=2.5 in /usr/local/lib/python3.9/dist-packages (from requests->obspy) (2.10)\n",
            "Requirement already satisfied: certifi>=2017.4.17 in /usr/local/lib/python3.9/dist-packages (from requests->obspy) (2022.12.7)\n",
            "Requirement already satisfied: greenlet!=0.4.17 in /usr/local/lib/python3.9/dist-packages (from sqlalchemy->obspy) (2.0.2)\n",
            "Requirement already satisfied: six>=1.5 in /usr/local/lib/python3.9/dist-packages (from python-dateutil>=2.7->matplotlib>=3.3->obspy) (1.15.0)\n",
            "Installing collected packages: obspy\n",
            "Successfully installed obspy-1.4.0\n"
          ]
        },
        {
          "output_type": "display_data",
          "data": {
            "application/vnd.colab-display-data+json": {
              "pip_warning": {
                "packages": [
                  "signal"
                ]
              }
            }
          },
          "metadata": {}
        }
      ]
    },
    {
      "cell_type": "code",
      "source": [
        "! pip install usgs-libcomcat"
      ],
      "metadata": {
        "colab": {
          "base_uri": "https://localhost:8080/",
          "height": 1000
        },
        "id": "hiyOCtMV6iMf",
        "outputId": "29d900d9-528a-44a8-bdb1-2c237d3aa1ac"
      },
      "execution_count": null,
      "outputs": [
        {
          "output_type": "stream",
          "name": "stdout",
          "text": [
            "Looking in indexes: https://pypi.org/simple, https://us-python.pkg.dev/colab-wheels/public/simple/\n",
            "Collecting usgs-libcomcat\n",
            "  Downloading usgs_libcomcat-2.0.20-py3-none-any.whl (4.0 MB)\n",
            "\u001b[2K     \u001b[90m━━━━━━━━━━━━━━━━━━━━━━━━━━━━━━━━━━━━━━━━\u001b[0m \u001b[32m4.0/4.0 MB\u001b[0m \u001b[31m8.6 MB/s\u001b[0m eta \u001b[36m0:00:00\u001b[0m\n",
            "\u001b[?25hRequirement already satisfied: openpyxl>=3.0.6 in /usr/local/lib/python3.9/dist-packages (from usgs-libcomcat) (3.0.10)\n",
            "Collecting esi-utils-time\n",
            "  Downloading esi_utils_time-1.0.2-py3-none-any.whl (7.1 MB)\n",
            "\u001b[2K     \u001b[90m━━━━━━━━━━━━━━━━━━━━━━━━━━━━━━━━━━━━━━━━\u001b[0m \u001b[32m7.1/7.1 MB\u001b[0m \u001b[31m16.2 MB/s\u001b[0m eta \u001b[36m0:00:00\u001b[0m\n",
            "\u001b[?25hRequirement already satisfied: obspy>=1.2.1 in /usr/local/lib/python3.9/dist-packages (from usgs-libcomcat) (1.4.0)\n",
            "Collecting esi-utils-geo\n",
            "  Downloading esi_utils_geo-0.9.4-py3-none-any.whl (8.2 MB)\n",
            "\u001b[2K     \u001b[90m━━━━━━━━━━━━━━━━━━━━━━━━━━━━━━━━━━━━━━━━\u001b[0m \u001b[32m8.2/8.2 MB\u001b[0m \u001b[31m18.2 MB/s\u001b[0m eta \u001b[36m0:00:00\u001b[0m\n",
            "\u001b[?25hCollecting geopy>=2.1.0\n",
            "  Downloading geopy-2.3.0-py3-none-any.whl (119 kB)\n",
            "\u001b[2K     \u001b[90m━━━━━━━━━━━━━━━━━━━━━━━━━━━━━━━━━━━━━━\u001b[0m \u001b[32m119.8/119.8 KB\u001b[0m \u001b[31m13.4 MB/s\u001b[0m eta \u001b[36m0:00:00\u001b[0m\n",
            "\u001b[?25hCollecting fiona>=1.8.20\n",
            "  Downloading Fiona-1.9.1-cp39-cp39-manylinux_2_17_x86_64.manylinux2014_x86_64.whl (16.0 MB)\n",
            "\u001b[2K     \u001b[90m━━━━━━━━━━━━━━━━━━━━━━━━━━━━━━━━━━━━━━━━\u001b[0m \u001b[32m16.0/16.0 MB\u001b[0m \u001b[31m49.2 MB/s\u001b[0m eta \u001b[36m0:00:00\u001b[0m\n",
            "\u001b[?25hRequirement already satisfied: numpy>=1.21 in /usr/local/lib/python3.9/dist-packages (from usgs-libcomcat) (1.22.4)\n",
            "Requirement already satisfied: pandas>=1.3.3 in /usr/local/lib/python3.9/dist-packages (from usgs-libcomcat) (1.3.5)\n",
            "Collecting esi-utils-io\n",
            "  Downloading esi_utils_io-1.0.2-py3-none-any.whl (11 kB)\n",
            "Requirement already satisfied: h5py in /usr/local/lib/python3.9/dist-packages (from usgs-libcomcat) (3.1.0)\n",
            "Collecting pandas>=1.3.3\n",
            "  Downloading pandas-1.5.3-cp39-cp39-manylinux_2_17_x86_64.manylinux2014_x86_64.whl (12.2 MB)\n",
            "\u001b[2K     \u001b[90m━━━━━━━━━━━━━━━━━━━━━━━━━━━━━━━━━━━━━━━━\u001b[0m \u001b[32m12.2/12.2 MB\u001b[0m \u001b[31m91.1 MB/s\u001b[0m eta \u001b[36m0:00:00\u001b[0m\n",
            "\u001b[?25hCollecting xlsxwriter>=3.0.1\n",
            "  Downloading XlsxWriter-3.0.9-py3-none-any.whl (152 kB)\n",
            "\u001b[2K     \u001b[90m━━━━━━━━━━━━━━━━━━━━━━━━━━━━━━━━━━━━━━\u001b[0m \u001b[32m152.8/152.8 KB\u001b[0m \u001b[31m17.3 MB/s\u001b[0m eta \u001b[36m0:00:00\u001b[0m\n",
            "\u001b[?25hRequirement already satisfied: click~=8.0 in /usr/local/lib/python3.9/dist-packages (from fiona>=1.8.20->usgs-libcomcat) (8.1.3)\n",
            "Collecting click-plugins>=1.0\n",
            "  Downloading click_plugins-1.1.1-py2.py3-none-any.whl (7.5 kB)\n",
            "Requirement already satisfied: setuptools in /usr/local/lib/python3.9/dist-packages (from fiona>=1.8.20->usgs-libcomcat) (57.4.0)\n",
            "Collecting munch>=2.3.2\n",
            "  Downloading munch-2.5.0-py2.py3-none-any.whl (10 kB)\n",
            "Collecting cligj>=0.5\n",
            "  Downloading cligj-0.7.2-py3-none-any.whl (7.1 kB)\n",
            "Requirement already satisfied: attrs>=19.2.0 in /usr/local/lib/python3.9/dist-packages (from fiona>=1.8.20->usgs-libcomcat) (22.2.0)\n",
            "Requirement already satisfied: certifi in /usr/local/lib/python3.9/dist-packages (from fiona>=1.8.20->usgs-libcomcat) (2022.12.7)\n",
            "Requirement already satisfied: geographiclib<3,>=1.52 in /usr/local/lib/python3.9/dist-packages (from geopy>=2.1.0->usgs-libcomcat) (1.52)\n",
            "Requirement already satisfied: decorator in /usr/local/lib/python3.9/dist-packages (from obspy>=1.2.1->usgs-libcomcat) (4.4.2)\n",
            "Requirement already satisfied: sqlalchemy in /usr/local/lib/python3.9/dist-packages (from obspy>=1.2.1->usgs-libcomcat) (1.4.46)\n",
            "Requirement already satisfied: requests in /usr/local/lib/python3.9/dist-packages (from obspy>=1.2.1->usgs-libcomcat) (2.25.1)\n",
            "Requirement already satisfied: matplotlib>=3.3 in /usr/local/lib/python3.9/dist-packages (from obspy>=1.2.1->usgs-libcomcat) (3.5.3)\n",
            "Requirement already satisfied: scipy>=1.7 in /usr/local/lib/python3.9/dist-packages (from obspy>=1.2.1->usgs-libcomcat) (1.10.1)\n",
            "Requirement already satisfied: lxml in /usr/local/lib/python3.9/dist-packages (from obspy>=1.2.1->usgs-libcomcat) (4.9.2)\n",
            "Requirement already satisfied: et-xmlfile in /usr/local/lib/python3.9/dist-packages (from openpyxl>=3.0.6->usgs-libcomcat) (1.1.0)\n",
            "Requirement already satisfied: python-dateutil>=2.8.1 in /usr/local/lib/python3.9/dist-packages (from pandas>=1.3.3->usgs-libcomcat) (2.8.2)\n",
            "Requirement already satisfied: pytz>=2020.1 in /usr/local/lib/python3.9/dist-packages (from pandas>=1.3.3->usgs-libcomcat) (2022.7.1)\n",
            "Collecting Pillow>=9.1.0\n",
            "  Downloading Pillow-9.4.0-cp39-cp39-manylinux_2_28_x86_64.whl (3.4 MB)\n",
            "\u001b[2K     \u001b[90m━━━━━━━━━━━━━━━━━━━━━━━━━━━━━━━━━━━━━━━━\u001b[0m \u001b[32m3.4/3.4 MB\u001b[0m \u001b[31m91.8 MB/s\u001b[0m eta \u001b[36m0:00:00\u001b[0m\n",
            "\u001b[?25hRequirement already satisfied: bs4>=0.0.1 in /usr/local/lib/python3.9/dist-packages (from esi-utils-time->usgs-libcomcat) (0.0.1)\n",
            "Collecting pyproj>=2.6.1\n",
            "  Downloading pyproj-3.4.1-cp39-cp39-manylinux_2_17_x86_64.manylinux2014_x86_64.whl (7.7 MB)\n",
            "\u001b[2K     \u001b[90m━━━━━━━━━━━━━━━━━━━━━━━━━━━━━━━━━━━━━━━━\u001b[0m \u001b[32m7.7/7.7 MB\u001b[0m \u001b[31m94.7 MB/s\u001b[0m eta \u001b[36m0:00:00\u001b[0m\n",
            "\u001b[?25hRequirement already satisfied: shapely>=1.8 in /usr/local/lib/python3.9/dist-packages (from esi-utils-time->usgs-libcomcat) (2.0.1)\n",
            "Requirement already satisfied: beautifulsoup4 in /usr/local/lib/python3.9/dist-packages (from bs4>=0.0.1->esi-utils-time->usgs-libcomcat) (4.6.3)\n",
            "Requirement already satisfied: cycler>=0.10 in /usr/local/lib/python3.9/dist-packages (from matplotlib>=3.3->obspy>=1.2.1->usgs-libcomcat) (0.11.0)\n",
            "Requirement already satisfied: packaging>=20.0 in /usr/local/lib/python3.9/dist-packages (from matplotlib>=3.3->obspy>=1.2.1->usgs-libcomcat) (23.0)\n",
            "Requirement already satisfied: kiwisolver>=1.0.1 in /usr/local/lib/python3.9/dist-packages (from matplotlib>=3.3->obspy>=1.2.1->usgs-libcomcat) (1.4.4)\n",
            "Requirement already satisfied: fonttools>=4.22.0 in /usr/local/lib/python3.9/dist-packages (from matplotlib>=3.3->obspy>=1.2.1->usgs-libcomcat) (4.39.0)\n",
            "Requirement already satisfied: pyparsing>=2.2.1 in /usr/local/lib/python3.9/dist-packages (from matplotlib>=3.3->obspy>=1.2.1->usgs-libcomcat) (3.0.9)\n",
            "Requirement already satisfied: six in /usr/local/lib/python3.9/dist-packages (from munch>=2.3.2->fiona>=1.8.20->usgs-libcomcat) (1.15.0)\n",
            "Requirement already satisfied: chardet<5,>=3.0.2 in /usr/local/lib/python3.9/dist-packages (from requests->obspy>=1.2.1->usgs-libcomcat) (4.0.0)\n",
            "Requirement already satisfied: idna<3,>=2.5 in /usr/local/lib/python3.9/dist-packages (from requests->obspy>=1.2.1->usgs-libcomcat) (2.10)\n",
            "Requirement already satisfied: urllib3<1.27,>=1.21.1 in /usr/local/lib/python3.9/dist-packages (from requests->obspy>=1.2.1->usgs-libcomcat) (1.26.14)\n",
            "Requirement already satisfied: greenlet!=0.4.17 in /usr/local/lib/python3.9/dist-packages (from sqlalchemy->obspy>=1.2.1->usgs-libcomcat) (2.0.2)\n",
            "Installing collected packages: xlsxwriter, pyproj, Pillow, munch, geopy, cligj, click-plugins, pandas, fiona, esi-utils-time, esi-utils-io, esi-utils-geo, usgs-libcomcat\n",
            "  Attempting uninstall: Pillow\n",
            "    Found existing installation: Pillow 8.4.0\n",
            "    Uninstalling Pillow-8.4.0:\n",
            "      Successfully uninstalled Pillow-8.4.0\n",
            "  Attempting uninstall: geopy\n",
            "    Found existing installation: geopy 1.17.0\n",
            "    Uninstalling geopy-1.17.0:\n",
            "      Successfully uninstalled geopy-1.17.0\n",
            "  Attempting uninstall: pandas\n",
            "    Found existing installation: pandas 1.3.5\n",
            "    Uninstalling pandas-1.3.5:\n",
            "      Successfully uninstalled pandas-1.3.5\n",
            "Successfully installed Pillow-9.4.0 click-plugins-1.1.1 cligj-0.7.2 esi-utils-geo-0.9.4 esi-utils-io-1.0.2 esi-utils-time-1.0.2 fiona-1.9.1 geopy-2.3.0 munch-2.5.0 pandas-1.5.3 pyproj-3.4.1 usgs-libcomcat-2.0.20 xlsxwriter-3.0.9\n"
          ]
        },
        {
          "output_type": "display_data",
          "data": {
            "application/vnd.colab-display-data+json": {
              "pip_warning": {
                "packages": [
                  "PIL",
                  "pandas"
                ]
              }
            }
          },
          "metadata": {}
        }
      ]
    },
    {
      "cell_type": "markdown",
      "source": [
        "### Magnitude"
      ],
      "metadata": {
        "id": "va88WeJ_6zV7"
      }
    },
    {
      "cell_type": "code",
      "source": [
        "%matplotlib inline"
      ],
      "metadata": {
        "id": "raf6ydKJ61mD"
      },
      "execution_count": null,
      "outputs": []
    },
    {
      "cell_type": "code",
      "source": [
        "# stdlib imports\n",
        "from datetime import datetime\n",
        "from time import time\n",
        "\n",
        "# Third party imports\n",
        "import matplotlib.pyplot as plt\n",
        "from obspy.geodetics.base import gps2dist_azimuth\n",
        "import pandas as pd\n",
        "\n",
        "# Local imports\n",
        "from libcomcat.dataframes import get_history_data_frame\n",
        "from libcomcat.search import (get_event_by_id, get_authoritative_info, search)"
      ],
      "metadata": {
        "id": "PYlUPKW069J-"
      },
      "execution_count": null,
      "outputs": []
    },
    {
      "cell_type": "markdown",
      "source": [
        "### Data"
      ],
      "metadata": {
        "id": "A1oM3k5YAjQP"
      }
    },
    {
      "cell_type": "code",
      "source": [
        "# mounting google drive\n",
        "from google.colab import drive\n",
        "drive.mount(\"/content/drive\")"
      ],
      "metadata": {
        "colab": {
          "base_uri": "https://localhost:8080/"
        },
        "id": "6D0UOQBrAluh",
        "outputId": "26986b19-2c9e-41cb-b077-adf82a66ea03"
      },
      "execution_count": null,
      "outputs": [
        {
          "output_type": "stream",
          "name": "stdout",
          "text": [
            "Drive already mounted at /content/drive; to attempt to forcibly remount, call drive.mount(\"/content/drive\", force_remount=True).\n"
          ]
        }
      ]
    },
    {
      "cell_type": "code",
      "source": [
        "path = \"/content/drive/MyDrive/Test_Python/NCS-USGS.xlsx\""
      ],
      "metadata": {
        "id": "zZfJtm8qHXwh"
      },
      "execution_count": null,
      "outputs": []
    },
    {
      "cell_type": "code",
      "source": [
        "path = \"/content/drive/MyDrive/Test_Python/NCS-USGS.xlsx\"\n",
        "tablefile = '/content/drive/MyDrive/Test_Python/NCS-USGS.xlsx'\n",
        "if 'dataframe' not in vars():\n",
        "    dataframe = pd.read_excel(tablefile)\n",
        "else:\n",
        "    dataframe.to_excel(tablefile, index=False)"
      ],
      "metadata": {
        "id": "dHE0ofGmJp1f"
      },
      "execution_count": null,
      "outputs": []
    },
    {
      "cell_type": "code",
      "source": [
        "dataframe.count()"
      ],
      "metadata": {
        "colab": {
          "base_uri": "https://localhost:8080/"
        },
        "id": "EiYSQoLqKT1O",
        "outputId": "cfddc38c-1747-4b4d-a46f-e887e4dbf4c0"
      },
      "execution_count": null,
      "outputs": [
        {
          "output_type": "execute_result",
          "data": {
            "text/plain": [
              "Origin              858\n",
              "Time                858\n",
              "Lat(NCS)            858\n",
              "Long(NCS)           858\n",
              "Depth(NCS)          858\n",
              "Magnitude(NCS)      858\n",
              "Unnamed: 6            0\n",
              "Date               1296\n",
              "Time.1             1296\n",
              "latitude(USGS)     1296\n",
              "longitude(USGS)    1296\n",
              "depth(USGS)        1296\n",
              "mag (USGS)         1296\n",
              "dtype: int64"
            ]
          },
          "metadata": {},
          "execution_count": 47
        }
      ]
    },
    {
      "cell_type": "markdown",
      "source": [
        "### Magnitude Difference"
      ],
      "metadata": {
        "id": "d2wf6sc9Kuel"
      }
    },
    {
      "cell_type": "code",
      "source": [
        "reg_type = 'Magnitude(NCS)'\n",
        "us_type = 'mag (USGS)'\n",
        "c1 = dataframe[reg_type].notnull()\n",
        "c2 = dataframe[us_type].notnull()\n",
        "N = len(dataframe[c1&c2])\n",
        "magdf = dataframe[c1&c2]\n",
        "reg_mag = magdf[reg_type]\n",
        "us_mag = magdf[us_type]\n",
        "minmag = min(reg_mag.min(),us_mag.min())\n",
        "maxmag = max(reg_mag.max(),us_mag.max())\n",
        "fig = plt.figure(figsize=(8,8))\n",
        "plt.plot(reg_mag, us_mag,'b.');\n",
        "plt.plot([minmag,maxmag],[minmag,maxmag],'r');\n",
        "# plt.axes([minmag,maxmag,minmag,maxmag]);\n",
        "plt.axis('square');\n",
        "plt.xlabel(reg_type, fontsize=14);\n",
        "plt.ylabel(us_type, fontsize=14);\n",
        "plt.text(minmag, maxmag, 'N=%i' % N, fontsize=14);\n",
        "#sdate = stime.strftime('%b %d, %Y')\n",
        "#edate = etime.strftime('%b %d, %Y')\n",
        "fmt = '%s vs. %s (%s to %s)'\n",
        "#plt.title(fmt % (reg_type, us_type, sdate, edate), fontsize=16);"
      ],
      "metadata": {
        "colab": {
          "base_uri": "https://localhost:8080/",
          "height": 501
        },
        "id": "0bGh5ICZKwsM",
        "outputId": "0d5b37ff-de77-4e72-802d-f4fb5c5b6d9a"
      },
      "execution_count": null,
      "outputs": [
        {
          "output_type": "display_data",
          "data": {
            "text/plain": [
              "<Figure size 576x576 with 1 Axes>"
            ],
            "image/png": "[encoded data removed]"
          },
          "metadata": {
            "needs_background": "light"
          }
        }
      ]
    },
    {
      "cell_type": "markdown",
      "source": [
        "### Location Difference"
      ],
      "metadata": {
        "id": "lQ8uT3xNPnin"
      }
    },
    {
      "cell_type": "code",
      "source": [
        "#regname = 'ld'\n",
        "lat1col = 'Lat(NCS)' \n",
        "lon1col = 'Long(NCS)' \n",
        "lat2col = 'latitude(USGS)'\n",
        "lon2col = 'longitude(USGS)'\n",
        "c1 = dataframe[lat1col].notnull()\n",
        "c2 = dataframe[lon1col].notnull()\n",
        "c3 = dataframe[lat2col].notnull()\n",
        "c4 = dataframe[lon2col].notnull()\n",
        "locdf = dataframe[c1 & c2 & c3 & c4].copy()\n",
        "distances = []\n",
        "for idx, row in locdf.iterrows():\n",
        "    lat1 = row[lat1col]\n",
        "    lon1 = row[lon1col]\n",
        "    lat2 = row[lat2col]\n",
        "    lon2 = row[lon2col]\n",
        "    dist, az1, az2 = gps2dist_azimuth(lat1, lon1, lat2, lon2)\n",
        "    distances.append(dist/1000.0)"
      ],
      "metadata": {
        "id": "jxd57zOyPp8d"
      },
      "execution_count": null,
      "outputs": []
    },
    {
      "cell_type": "code",
      "source": [
        "fig = plt.figure(figsize=(10,6));\n",
        "plt.hist(distances, bins=10);\n",
        "plt.xlabel('NCS-USGS Location Distance', fontsize=14);\n",
        "xmin,xmax,ymin,ymax = plt.axis();\n",
        "xpos = xmax - (xmax-xmin)/10\n",
        "ypos = ymax - (ymax-ymin)/10\n",
        "plt.text(xpos,ypos,'N=%i' % len(distances), fontsize=14);\n",
        "plt.title('NCS vs USGS Locations', fontsize=16);"
      ],
      "metadata": {
        "colab": {
          "base_uri": "https://localhost:8080/",
          "height": 410
        },
        "id": "8M79qDyWR0Az",
        "outputId": "00690f40-d5ec-46e7-8907-98f14144eb98"
      },
      "execution_count": null,
      "outputs": [
        {
          "output_type": "display_data",
          "data": {
            "text/plain": [
              "<Figure size 720x432 with 1 Axes>"
            ],
            "image/png": "[encoded data removed]"
          },
          "metadata": {
            "needs_background": "light"
          }
        }
      ]
    },
    {
      "cell_type": "markdown",
      "source": [
        "### Depth Difference"
      ],
      "metadata": {
        "id": "Z2q-Z6yWSaW4"
      }
    },
    {
      "cell_type": "code",
      "source": [
        "plt.figure(figsize=(10,6));\n",
        "regcol = 'Depth(NCS)'\n",
        "uscol = 'depth(USGS)'\n",
        "ddepth = locdf[uscol] - locdf[regcol]\n",
        "plt.plot(locdf['Magnitude(NCS)'],ddepth,'b.');\n",
        "plt.xlabel('Magnitude(NCS)', fontsize=14);\n",
        "plt.ylabel('depth(USGS) - Depth(NCS)', fontsize=14);\n",
        "plt.title('Depth Difference vs NCS-USGS', fontsize=16);"
      ],
      "metadata": {
        "colab": {
          "base_uri": "https://localhost:8080/",
          "height": 410
        },
        "id": "bE-Jfjy_Sc3M",
        "outputId": "aac06451-b110-4b80-f741-83b0fc38a1f6"
      },
      "execution_count": null,
      "outputs": [
        {
          "output_type": "display_data",
          "data": {
            "text/plain": [
              "<Figure size 720x432 with 1 Axes>"
            ],
            "image/png": "[encoded data removed]"
          },
          "metadata": {
            "needs_background": "light"
          }
        }
      ]
    }
  ]
}